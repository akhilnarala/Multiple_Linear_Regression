{
 "cells": [
  {
   "cell_type": "markdown",
   "metadata": {},
   "source": [
    "# Multiple Linear Regression\n",
    "        Y=aX1+bX2+c\n",
    "        Using Matrix Inversion Method"
   ]
  },
  {
   "cell_type": "code",
   "execution_count": 39,
   "metadata": {
    "collapsed": true
   },
   "outputs": [],
   "source": [
    "from numpy import *\n",
    "import matplotlib.pyplot as plt\n",
    "import matplotlib.image as mpimg"
   ]
  },
  {
   "cell_type": "markdown",
   "metadata": {},
   "source": [
    "# The values of X1,X2,Y are below"
   ]
  },
  {
   "cell_type": "code",
   "execution_count": 40,
   "metadata": {},
   "outputs": [
    {
     "name": "stdout",
     "output_type": "stream",
     "text": [
      "[[  2.8    6.1   44.  ]\n",
      " [  3.1    5.1   25.  ]\n",
      " [  2.59   6.    10.  ]\n",
      " [  3.36   6.9   28.  ]\n",
      " [  2.8    7.    25.  ]\n",
      " [  3.35   5.6   72.  ]\n",
      " [  2.99   6.3   45.  ]\n",
      " [  2.99   7.2   25.  ]\n",
      " [  2.92   6.9   12.  ]\n",
      " [  3.23   6.5   24.  ]\n",
      " [  3.37   6.8   46.  ]\n",
      " [  2.72   6.6    8.  ]\n",
      " [  3.47   8.4   15.  ]\n",
      " [  2.7    5.9   28.  ]\n",
      " [  3.24   6.    26.  ]\n",
      " [  2.65   6.    27.  ]\n",
      " [  3.41   7.6    4.  ]\n",
      " [  2.58   6.2   14.  ]\n",
      " [  2.81   6.    21.  ]\n",
      " [  2.8    6.4   22.  ]\n",
      " [  3.62   6.8   60.  ]\n",
      " [  2.74   8.4   10.  ]\n",
      " [  3.27   6.7   60.  ]\n",
      " [  3.78   8.3   12.  ]\n",
      " [  2.9    5.6   28.  ]\n",
      " [  3.7    7.3   39.  ]\n",
      " [  3.4    7.    14.  ]\n",
      " [  2.63   6.9    8.  ]\n",
      " [  2.65   5.8   11.  ]\n",
      " [  3.26   7.2    7.  ]\n",
      " [  3.15   6.5   23.  ]\n",
      " [  2.6    6.3   16.  ]\n",
      " [  2.74   6.8   26.  ]\n",
      " [  2.72   5.9    8.  ]\n",
      " [  3.11   6.8   11.  ]\n",
      " [  2.79   6.7   12.  ]\n",
      " [  2.9    6.7   50.  ]\n",
      " [  2.74   5.5    9.  ]\n",
      " [  2.7    6.9   13.  ]\n",
      " [  3.08   6.3   22.  ]\n",
      " [  2.18   6.1   23.  ]\n",
      " [  2.88   5.8   31.  ]\n",
      " [  3.04   6.8   20.  ]\n",
      " [  3.32   7.3   66.  ]\n",
      " [  2.8    5.9    9.  ]\n",
      " [  3.29   6.8   12.  ]\n",
      " [  3.56   8.8   21.  ]\n",
      " [  2.74   7.1   13.  ]\n",
      " [  3.06   6.9   10.  ]\n",
      " [  2.54   6.7    4.  ]\n",
      " [  2.78   7.2   18.  ]\n",
      " [  2.81   5.2   10.  ]\n",
      " [  3.26   6.6    7.  ]]\n"
     ]
    }
   ],
   "source": [
    "points=genfromtxt('data2.csv',delimiter=\",\")\n",
    "print(points)"
   ]
  },
  {
   "cell_type": "code",
   "execution_count": 41,
   "metadata": {
    "collapsed": true
   },
   "outputs": [],
   "source": [
    "y_actual=array(points[:,2])"
   ]
  },
  {
   "cell_type": "code",
   "execution_count": 42,
   "metadata": {},
   "outputs": [
    {
     "name": "stdout",
     "output_type": "stream",
     "text": [
      "[ 44.  25.  10.  28.  25.  72.  45.  25.  12.  24.  46.   8.  15.  28.  26.\n",
      "  27.   4.  14.  21.  22.  60.  10.  60.  12.  28.  39.  14.   8.  11.   7.\n",
      "  23.  16.  26.   8.  11.  12.  50.   9.  13.  22.  23.  31.  20.  66.   9.\n",
      "  12.  21.  13.  10.   4.  18.  10.   7.]\n"
     ]
    }
   ],
   "source": [
    "print(y_actual)"
   ]
  },
  {
   "cell_type": "code",
   "execution_count": 43,
   "metadata": {},
   "outputs": [
    {
     "name": "stdout",
     "output_type": "stream",
     "text": [
      "[[ 44.]\n",
      " [ 25.]\n",
      " [ 10.]\n",
      " [ 28.]\n",
      " [ 25.]\n",
      " [ 72.]\n",
      " [ 45.]\n",
      " [ 25.]\n",
      " [ 12.]\n",
      " [ 24.]\n",
      " [ 46.]\n",
      " [  8.]\n",
      " [ 15.]\n",
      " [ 28.]\n",
      " [ 26.]\n",
      " [ 27.]\n",
      " [  4.]\n",
      " [ 14.]\n",
      " [ 21.]\n",
      " [ 22.]\n",
      " [ 60.]\n",
      " [ 10.]\n",
      " [ 60.]\n",
      " [ 12.]\n",
      " [ 28.]\n",
      " [ 39.]\n",
      " [ 14.]\n",
      " [  8.]\n",
      " [ 11.]\n",
      " [  7.]\n",
      " [ 23.]\n",
      " [ 16.]\n",
      " [ 26.]\n",
      " [  8.]\n",
      " [ 11.]\n",
      " [ 12.]\n",
      " [ 50.]\n",
      " [  9.]\n",
      " [ 13.]\n",
      " [ 22.]\n",
      " [ 23.]\n",
      " [ 31.]\n",
      " [ 20.]\n",
      " [ 66.]\n",
      " [  9.]\n",
      " [ 12.]\n",
      " [ 21.]\n",
      " [ 13.]\n",
      " [ 10.]\n",
      " [  4.]\n",
      " [ 18.]\n",
      " [ 10.]\n",
      " [  7.]]\n"
     ]
    }
   ],
   "source": [
    "y_actual.resize(len(points),1)\n",
    "print(y_actual)"
   ]
  },
  {
   "cell_type": "code",
   "execution_count": 44,
   "metadata": {},
   "outputs": [
    {
     "name": "stdout",
     "output_type": "stream",
     "text": [
      "[[ 2.8   6.1   1.  ]\n",
      " [ 3.1   5.1   1.  ]\n",
      " [ 2.59  6.    1.  ]\n",
      " [ 3.36  6.9   1.  ]\n",
      " [ 2.8   7.    1.  ]\n",
      " [ 3.35  5.6   1.  ]\n",
      " [ 2.99  6.3   1.  ]\n",
      " [ 2.99  7.2   1.  ]\n",
      " [ 2.92  6.9   1.  ]\n",
      " [ 3.23  6.5   1.  ]\n",
      " [ 3.37  6.8   1.  ]\n",
      " [ 2.72  6.6   1.  ]\n",
      " [ 3.47  8.4   1.  ]\n",
      " [ 2.7   5.9   1.  ]\n",
      " [ 3.24  6.    1.  ]\n",
      " [ 2.65  6.    1.  ]\n",
      " [ 3.41  7.6   1.  ]\n",
      " [ 2.58  6.2   1.  ]\n",
      " [ 2.81  6.    1.  ]\n",
      " [ 2.8   6.4   1.  ]\n",
      " [ 3.62  6.8   1.  ]\n",
      " [ 2.74  8.4   1.  ]\n",
      " [ 3.27  6.7   1.  ]\n",
      " [ 3.78  8.3   1.  ]\n",
      " [ 2.9   5.6   1.  ]\n",
      " [ 3.7   7.3   1.  ]\n",
      " [ 3.4   7.    1.  ]\n",
      " [ 2.63  6.9   1.  ]\n",
      " [ 2.65  5.8   1.  ]\n",
      " [ 3.26  7.2   1.  ]\n",
      " [ 3.15  6.5   1.  ]\n",
      " [ 2.6   6.3   1.  ]\n",
      " [ 2.74  6.8   1.  ]\n",
      " [ 2.72  5.9   1.  ]\n",
      " [ 3.11  6.8   1.  ]\n",
      " [ 2.79  6.7   1.  ]\n",
      " [ 2.9   6.7   1.  ]\n",
      " [ 2.74  5.5   1.  ]\n",
      " [ 2.7   6.9   1.  ]\n",
      " [ 3.08  6.3   1.  ]\n",
      " [ 2.18  6.1   1.  ]\n",
      " [ 2.88  5.8   1.  ]\n",
      " [ 3.04  6.8   1.  ]\n",
      " [ 3.32  7.3   1.  ]\n",
      " [ 2.8   5.9   1.  ]\n",
      " [ 3.29  6.8   1.  ]\n",
      " [ 3.56  8.8   1.  ]\n",
      " [ 2.74  7.1   1.  ]\n",
      " [ 3.06  6.9   1.  ]\n",
      " [ 2.54  6.7   1.  ]\n",
      " [ 2.78  7.2   1.  ]\n",
      " [ 2.81  5.2   1.  ]\n",
      " [ 3.26  6.6   1.  ]]\n"
     ]
    }
   ],
   "source": [
    "points[:,len(points[0])-1]=1\n",
    "print(points)"
   ]
  },
  {
   "cell_type": "markdown",
   "metadata": {},
   "source": [
    "### Calculating values of a,b&c using matix inversion method "
   ]
  },
  {
   "cell_type": "code",
   "execution_count": 45,
   "metadata": {
    "collapsed": true
   },
   "outputs": [],
   "source": [
    "abc_values=matrix(linalg.lstsq(points,y_actual)[0])"
   ]
  },
  {
   "cell_type": "code",
   "execution_count": 46,
   "metadata": {},
   "outputs": [
    {
     "name": "stdout",
     "output_type": "stream",
     "text": [
      "[[ 23.4913283 ]\n",
      " [ -7.0591176 ]\n",
      " [ -0.82525107]]\n"
     ]
    }
   ],
   "source": [
    "print(abc_values)"
   ]
  },
  {
   "cell_type": "code",
   "execution_count": 47,
   "metadata": {
    "collapsed": true
   },
   "outputs": [],
   "source": [
    "#prdicting y values using obtained a,b,c values\n",
    "y_pred=dot(points,beta)"
   ]
  },
  {
   "cell_type": "code",
   "execution_count": 48,
   "metadata": {},
   "outputs": [],
   "source": [
    "error=sum(multiply(y_actual-y_pred,y_actual-y_pred))/len(points)"
   ]
  },
  {
   "cell_type": "code",
   "execution_count": 49,
   "metadata": {},
   "outputs": [
    {
     "name": "stdout",
     "output_type": "stream",
     "text": [
      "a=23.49132829949922\n"
     ]
    }
   ],
   "source": [
    "print(\"a=\",float(abc_values[0]),sep=\"\")"
   ]
  },
  {
   "cell_type": "code",
   "execution_count": 50,
   "metadata": {},
   "outputs": [
    {
     "name": "stdout",
     "output_type": "stream",
     "text": [
      "b=-7.059117596691008\n"
     ]
    }
   ],
   "source": [
    "print(\"b=\",float(abc_values[1]),sep=\"\")"
   ]
  },
  {
   "cell_type": "code",
   "execution_count": 51,
   "metadata": {},
   "outputs": [
    {
     "name": "stdout",
     "output_type": "stream",
     "text": [
      "c=-0.8252510692142475\n"
     ]
    }
   ],
   "source": [
    "print(\"c=\",float(abc_values[2]),sep=\"\")"
   ]
  },
  {
   "cell_type": "code",
   "execution_count": 52,
   "metadata": {},
   "outputs": [
    {
     "name": "stdout",
     "output_type": "stream",
     "text": [
      "error= 390.543786919\n"
     ]
    }
   ],
   "source": [
    "print(\"error=\",error)"
   ]
  },
  {
   "cell_type": "code",
   "execution_count": 53,
   "metadata": {},
   "outputs": [
    {
     "data": {
      "image/png": "[encoded data removed]",
      "text/plain": [
       "<matplotlib.figure.Figure at 0x16cb67816d8>"
      ]
     },
     "metadata": {},
     "output_type": "display_data"
    }
   ],
   "source": [
    "#Plotting graph with y-predicted values\n",
    "from matplotlib import pyplot as plt\n",
    "plt.scatter(points[:,0],y_actual,color=\"red\")\n",
    "plt.plot(points[:,0],y_pred)\n",
    "plt.show()"
   ]
  },
  {
   "cell_type": "code",
   "execution_count": 54,
   "metadata": {},
   "outputs": [
    {
     "data": {
      "image/png": "[encoded data removed]",
      "text/plain": [
       "<matplotlib.figure.Figure at 0x16cb67f4c88>"
      ]
     },
     "metadata": {},
     "output_type": "display_data"
    }
   ],
   "source": [
    "#Plotting graph with y-predicted values\n",
    "from matplotlib import pyplot as plt\n",
    "plt.scatter(points[:,1],y_actual,color=\"green\")\n",
    "plt.plot(points[:,1],y_pred)\n",
    "plt.show()"
   ]
  },
  {
   "cell_type": "code",
   "execution_count": null,
   "metadata": {
    "collapsed": true
   },
   "outputs": [],
   "source": []
  }
 ],
 "metadata": {
  "kernelspec": {
   "display_name": "Python 3",
   "language": "python",
   "name": "python3"
  },
  "language_info": {
   "codemirror_mode": {
    "name": "ipython",
    "version": 3
   },
   "file_extension": ".py",
   "mimetype": "text/x-python",
   "name": "python",
   "nbconvert_exporter": "python",
   "pygments_lexer": "ipython3",
   "version": "3.6.1"
  }
 },
 "nbformat": 4,
 "nbformat_minor": 2
}
